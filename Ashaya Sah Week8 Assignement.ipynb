{
 "cells": [
  {
   "cell_type": "code",
   "execution_count": 1,
   "id": "f8b80c1a-d88f-4c05-99d6-79cdb87b8529",
   "metadata": {},
   "outputs": [],
   "source": [
    "# Import necessary libraries\n",
    "import numpy as np # linear algebra\n",
    "import pandas as pd # data processing, CSV file I/O\n",
    "import matplotlib.pyplot as plt\n",
    "import seaborn as sns"
   ]
  },
  {
   "cell_type": "code",
   "execution_count": 3,
   "id": "7907f19b-cf4b-4fa6-9990-20a9ce855fb8",
   "metadata": {},
   "outputs": [
    {
     "data": {
      "text/html": [
       "<div>\n",
       "<style scoped>\n",
       "    .dataframe tbody tr th:only-of-type {\n",
       "        vertical-align: middle;\n",
       "    }\n",
       "\n",
       "    .dataframe tbody tr th {\n",
       "        vertical-align: top;\n",
       "    }\n",
       "\n",
       "    .dataframe thead th {\n",
       "        text-align: right;\n",
       "    }\n",
       "</style>\n",
       "<table border=\"1\" class=\"dataframe\">\n",
       "  <thead>\n",
       "    <tr style=\"text-align: right;\">\n",
       "      <th></th>\n",
       "      <th>Time</th>\n",
       "      <th>V1</th>\n",
       "      <th>V2</th>\n",
       "      <th>V3</th>\n",
       "      <th>V4</th>\n",
       "      <th>V5</th>\n",
       "      <th>V6</th>\n",
       "      <th>V7</th>\n",
       "      <th>V8</th>\n",
       "      <th>V9</th>\n",
       "      <th>...</th>\n",
       "      <th>V21</th>\n",
       "      <th>V22</th>\n",
       "      <th>V23</th>\n",
       "      <th>V24</th>\n",
       "      <th>V25</th>\n",
       "      <th>V26</th>\n",
       "      <th>V27</th>\n",
       "      <th>V28</th>\n",
       "      <th>Amount</th>\n",
       "      <th>Class</th>\n",
       "    </tr>\n",
       "  </thead>\n",
       "  <tbody>\n",
       "    <tr>\n",
       "      <th>0</th>\n",
       "      <td>0.0</td>\n",
       "      <td>-1.359807</td>\n",
       "      <td>-0.072781</td>\n",
       "      <td>2.536347</td>\n",
       "      <td>1.378155</td>\n",
       "      <td>-0.338321</td>\n",
       "      <td>0.462388</td>\n",
       "      <td>0.239599</td>\n",
       "      <td>0.098698</td>\n",
       "      <td>0.363787</td>\n",
       "      <td>...</td>\n",
       "      <td>-0.018307</td>\n",
       "      <td>0.277838</td>\n",
       "      <td>-0.110474</td>\n",
       "      <td>0.066928</td>\n",
       "      <td>0.128539</td>\n",
       "      <td>-0.189115</td>\n",
       "      <td>0.133558</td>\n",
       "      <td>-0.021053</td>\n",
       "      <td>149.62</td>\n",
       "      <td>0</td>\n",
       "    </tr>\n",
       "    <tr>\n",
       "      <th>1</th>\n",
       "      <td>0.0</td>\n",
       "      <td>1.191857</td>\n",
       "      <td>0.266151</td>\n",
       "      <td>0.166480</td>\n",
       "      <td>0.448154</td>\n",
       "      <td>0.060018</td>\n",
       "      <td>-0.082361</td>\n",
       "      <td>-0.078803</td>\n",
       "      <td>0.085102</td>\n",
       "      <td>-0.255425</td>\n",
       "      <td>...</td>\n",
       "      <td>-0.225775</td>\n",
       "      <td>-0.638672</td>\n",
       "      <td>0.101288</td>\n",
       "      <td>-0.339846</td>\n",
       "      <td>0.167170</td>\n",
       "      <td>0.125895</td>\n",
       "      <td>-0.008983</td>\n",
       "      <td>0.014724</td>\n",
       "      <td>2.69</td>\n",
       "      <td>0</td>\n",
       "    </tr>\n",
       "    <tr>\n",
       "      <th>2</th>\n",
       "      <td>1.0</td>\n",
       "      <td>-1.358354</td>\n",
       "      <td>-1.340163</td>\n",
       "      <td>1.773209</td>\n",
       "      <td>0.379780</td>\n",
       "      <td>-0.503198</td>\n",
       "      <td>1.800499</td>\n",
       "      <td>0.791461</td>\n",
       "      <td>0.247676</td>\n",
       "      <td>-1.514654</td>\n",
       "      <td>...</td>\n",
       "      <td>0.247998</td>\n",
       "      <td>0.771679</td>\n",
       "      <td>0.909412</td>\n",
       "      <td>-0.689281</td>\n",
       "      <td>-0.327642</td>\n",
       "      <td>-0.139097</td>\n",
       "      <td>-0.055353</td>\n",
       "      <td>-0.059752</td>\n",
       "      <td>378.66</td>\n",
       "      <td>0</td>\n",
       "    </tr>\n",
       "    <tr>\n",
       "      <th>3</th>\n",
       "      <td>1.0</td>\n",
       "      <td>-0.966272</td>\n",
       "      <td>-0.185226</td>\n",
       "      <td>1.792993</td>\n",
       "      <td>-0.863291</td>\n",
       "      <td>-0.010309</td>\n",
       "      <td>1.247203</td>\n",
       "      <td>0.237609</td>\n",
       "      <td>0.377436</td>\n",
       "      <td>-1.387024</td>\n",
       "      <td>...</td>\n",
       "      <td>-0.108300</td>\n",
       "      <td>0.005274</td>\n",
       "      <td>-0.190321</td>\n",
       "      <td>-1.175575</td>\n",
       "      <td>0.647376</td>\n",
       "      <td>-0.221929</td>\n",
       "      <td>0.062723</td>\n",
       "      <td>0.061458</td>\n",
       "      <td>123.50</td>\n",
       "      <td>0</td>\n",
       "    </tr>\n",
       "    <tr>\n",
       "      <th>4</th>\n",
       "      <td>2.0</td>\n",
       "      <td>-1.158233</td>\n",
       "      <td>0.877737</td>\n",
       "      <td>1.548718</td>\n",
       "      <td>0.403034</td>\n",
       "      <td>-0.407193</td>\n",
       "      <td>0.095921</td>\n",
       "      <td>0.592941</td>\n",
       "      <td>-0.270533</td>\n",
       "      <td>0.817739</td>\n",
       "      <td>...</td>\n",
       "      <td>-0.009431</td>\n",
       "      <td>0.798278</td>\n",
       "      <td>-0.137458</td>\n",
       "      <td>0.141267</td>\n",
       "      <td>-0.206010</td>\n",
       "      <td>0.502292</td>\n",
       "      <td>0.219422</td>\n",
       "      <td>0.215153</td>\n",
       "      <td>69.99</td>\n",
       "      <td>0</td>\n",
       "    </tr>\n",
       "  </tbody>\n",
       "</table>\n",
       "<p>5 rows × 31 columns</p>\n",
       "</div>"
      ],
      "text/plain": [
       "   Time        V1        V2        V3        V4        V5        V6        V7  \\\n",
       "0   0.0 -1.359807 -0.072781  2.536347  1.378155 -0.338321  0.462388  0.239599   \n",
       "1   0.0  1.191857  0.266151  0.166480  0.448154  0.060018 -0.082361 -0.078803   \n",
       "2   1.0 -1.358354 -1.340163  1.773209  0.379780 -0.503198  1.800499  0.791461   \n",
       "3   1.0 -0.966272 -0.185226  1.792993 -0.863291 -0.010309  1.247203  0.237609   \n",
       "4   2.0 -1.158233  0.877737  1.548718  0.403034 -0.407193  0.095921  0.592941   \n",
       "\n",
       "         V8        V9  ...       V21       V22       V23       V24       V25  \\\n",
       "0  0.098698  0.363787  ... -0.018307  0.277838 -0.110474  0.066928  0.128539   \n",
       "1  0.085102 -0.255425  ... -0.225775 -0.638672  0.101288 -0.339846  0.167170   \n",
       "2  0.247676 -1.514654  ...  0.247998  0.771679  0.909412 -0.689281 -0.327642   \n",
       "3  0.377436 -1.387024  ... -0.108300  0.005274 -0.190321 -1.175575  0.647376   \n",
       "4 -0.270533  0.817739  ... -0.009431  0.798278 -0.137458  0.141267 -0.206010   \n",
       "\n",
       "        V26       V27       V28  Amount  Class  \n",
       "0 -0.189115  0.133558 -0.021053  149.62      0  \n",
       "1  0.125895 -0.008983  0.014724    2.69      0  \n",
       "2 -0.139097 -0.055353 -0.059752  378.66      0  \n",
       "3 -0.221929  0.062723  0.061458  123.50      0  \n",
       "4  0.502292  0.219422  0.215153   69.99      0  \n",
       "\n",
       "[5 rows x 31 columns]"
      ]
     },
     "execution_count": 3,
     "metadata": {},
     "output_type": "execute_result"
    }
   ],
   "source": [
    "# Load the dataset\n",
    "data = pd.read_csv('creditcard.csv')\n",
    "\n",
    "# Show the first few rows of the dataset\n",
    "data.head()"
   ]
  },
  {
   "cell_type": "code",
   "execution_count": 5,
   "id": "a936a935-64ab-4dbd-b56a-e8069e464cb7",
   "metadata": {},
   "outputs": [
    {
     "name": "stdout",
     "output_type": "stream",
     "text": [
      "Missing values per column:\n",
      "Time      0\n",
      "V1        0\n",
      "V2        0\n",
      "V3        0\n",
      "V4        0\n",
      "V5        0\n",
      "V6        0\n",
      "V7        0\n",
      "V8        0\n",
      "V9        0\n",
      "V10       0\n",
      "V11       0\n",
      "V12       0\n",
      "V13       0\n",
      "V14       0\n",
      "V15       0\n",
      "V16       0\n",
      "V17       0\n",
      "V18       0\n",
      "V19       0\n",
      "V20       0\n",
      "V21       0\n",
      "V22       0\n",
      "V23       0\n",
      "V24       0\n",
      "V25       0\n",
      "V26       0\n",
      "V27       0\n",
      "V28       0\n",
      "Amount    0\n",
      "Class     0\n",
      "dtype: int64\n"
     ]
    }
   ],
   "source": [
    "# Check for missing values\n",
    "print(\"Missing values per column:\")\n",
    "print(data.isnull().sum())"
   ]
  },
  {
   "cell_type": "code",
   "execution_count": 6,
   "id": "29e7348d-1361-4bb6-9d75-13f1ef5457a9",
   "metadata": {},
   "outputs": [
    {
     "name": "stdout",
     "output_type": "stream",
     "text": [
      "Number of duplicate rows: 1081\n",
      "Shape before dropping duplicates: (284807, 31)\n"
     ]
    }
   ],
   "source": [
    "# Check for duplicate rows\n",
    "print(f\"Number of duplicate rows: {data.duplicated().sum()}\")\n",
    "\n",
    "# Shape of the data before dropping duplicates\n",
    "print(f\"Shape before dropping duplicates: {data.shape}\")"
   ]
  },
  {
   "cell_type": "code",
   "execution_count": 7,
   "id": "fd23114d-9738-4e97-b116-a319df5b09dd",
   "metadata": {},
   "outputs": [
    {
     "name": "stdout",
     "output_type": "stream",
     "text": [
      "Number of duplicate rows after cleaning: 0\n"
     ]
    }
   ],
   "source": [
    "# Drop duplicate rows if any\n",
    "data = data.drop_duplicates()\n",
    "\n",
    "# Confirm that duplicates are removed\n",
    "print(f\"Number of duplicate rows after cleaning: {data.duplicated().sum()}\")"
   ]
  },
  {
   "cell_type": "code",
   "execution_count": 9,
   "id": "007be4d6-59d7-440b-a1ae-16bf06ae0339",
   "metadata": {},
   "outputs": [
    {
     "name": "stdout",
     "output_type": "stream",
     "text": [
      "Shape after cleaning: (283726, 31)\n"
     ]
    }
   ],
   "source": [
    "# Display the shape of the dataset after cleaning\n",
    "print(f\"Shape after cleaning: {data.shape}\")"
   ]
  },
  {
   "cell_type": "code",
   "execution_count": 10,
   "id": "bf2e2c7e-e1b8-487d-af48-590578797b57",
   "metadata": {},
   "outputs": [
    {
     "name": "stdout",
     "output_type": "stream",
     "text": [
      "Correlation of features with target 'Class':\n",
      "Class     1.000000\n",
      "V11       0.149067\n",
      "V4        0.129326\n",
      "V2        0.084624\n",
      "V19       0.033631\n",
      "V8        0.033068\n",
      "V21       0.026357\n",
      "V27       0.021892\n",
      "V20       0.021486\n",
      "V28       0.009682\n",
      "Amount    0.005777\n",
      "V22       0.004887\n",
      "V26       0.004265\n",
      "V25       0.003202\n",
      "V15      -0.003300\n",
      "V13      -0.003897\n",
      "V23      -0.006333\n",
      "V24      -0.007210\n",
      "Time     -0.012359\n",
      "V6       -0.043915\n",
      "V5       -0.087812\n",
      "V9       -0.094021\n",
      "V1       -0.094486\n",
      "V18      -0.105340\n",
      "V7       -0.172347\n",
      "V3       -0.182322\n",
      "V16      -0.187186\n",
      "V10      -0.206971\n",
      "V12      -0.250711\n",
      "V14      -0.293375\n",
      "V17      -0.313498\n",
      "Name: Class, dtype: float64\n"
     ]
    }
   ],
   "source": [
    "# Correlation matrix to see relationships between features and the target\n",
    "corr_matrix = data.corr()\n",
    "\n",
    "# Sort correlation with respect to target (Class) to identify important features\n",
    "corr_with_target = corr_matrix['Class'].sort_values(ascending=False)\n",
    "print(\"Correlation of features with target 'Class':\")\n",
    "print(corr_with_target)"
   ]
  },
  {
   "cell_type": "code",
   "execution_count": 15,
   "id": "8a4e5b32-8c53-472e-82ed-9c9994edf7a5",
   "metadata": {},
   "outputs": [],
   "source": [
    "# Select features that have a high correlation with the target (Class)\n",
    "X = data[['V11','V4','V2','V19','V8','V21','V27','V20']]\n",
    "y = data['Class']"
   ]
  },
  {
   "cell_type": "code",
   "execution_count": 16,
   "id": "26b39c06-dab9-439c-944e-abd3258c8e59",
   "metadata": {},
   "outputs": [
    {
     "name": "stdout",
     "output_type": "stream",
     "text": [
      "Features:\n"
     ]
    },
    {
     "data": {
      "text/html": [
       "<div>\n",
       "<style scoped>\n",
       "    .dataframe tbody tr th:only-of-type {\n",
       "        vertical-align: middle;\n",
       "    }\n",
       "\n",
       "    .dataframe tbody tr th {\n",
       "        vertical-align: top;\n",
       "    }\n",
       "\n",
       "    .dataframe thead th {\n",
       "        text-align: right;\n",
       "    }\n",
       "</style>\n",
       "<table border=\"1\" class=\"dataframe\">\n",
       "  <thead>\n",
       "    <tr style=\"text-align: right;\">\n",
       "      <th></th>\n",
       "      <th>V11</th>\n",
       "      <th>V4</th>\n",
       "      <th>V2</th>\n",
       "      <th>V19</th>\n",
       "      <th>V8</th>\n",
       "      <th>V21</th>\n",
       "      <th>V27</th>\n",
       "      <th>V20</th>\n",
       "    </tr>\n",
       "  </thead>\n",
       "  <tbody>\n",
       "    <tr>\n",
       "      <th>0</th>\n",
       "      <td>-0.551600</td>\n",
       "      <td>1.378155</td>\n",
       "      <td>-0.072781</td>\n",
       "      <td>0.403993</td>\n",
       "      <td>0.098698</td>\n",
       "      <td>-0.018307</td>\n",
       "      <td>0.133558</td>\n",
       "      <td>0.251412</td>\n",
       "    </tr>\n",
       "    <tr>\n",
       "      <th>1</th>\n",
       "      <td>1.612727</td>\n",
       "      <td>0.448154</td>\n",
       "      <td>0.266151</td>\n",
       "      <td>-0.145783</td>\n",
       "      <td>0.085102</td>\n",
       "      <td>-0.225775</td>\n",
       "      <td>-0.008983</td>\n",
       "      <td>-0.069083</td>\n",
       "    </tr>\n",
       "    <tr>\n",
       "      <th>2</th>\n",
       "      <td>0.624501</td>\n",
       "      <td>0.379780</td>\n",
       "      <td>-1.340163</td>\n",
       "      <td>-2.261857</td>\n",
       "      <td>0.247676</td>\n",
       "      <td>0.247998</td>\n",
       "      <td>-0.055353</td>\n",
       "      <td>0.524980</td>\n",
       "    </tr>\n",
       "    <tr>\n",
       "      <th>3</th>\n",
       "      <td>-0.226487</td>\n",
       "      <td>-0.863291</td>\n",
       "      <td>-0.185226</td>\n",
       "      <td>-1.232622</td>\n",
       "      <td>0.377436</td>\n",
       "      <td>-0.108300</td>\n",
       "      <td>0.062723</td>\n",
       "      <td>-0.208038</td>\n",
       "    </tr>\n",
       "    <tr>\n",
       "      <th>4</th>\n",
       "      <td>-0.822843</td>\n",
       "      <td>0.403034</td>\n",
       "      <td>0.877737</td>\n",
       "      <td>0.803487</td>\n",
       "      <td>-0.270533</td>\n",
       "      <td>-0.009431</td>\n",
       "      <td>0.219422</td>\n",
       "      <td>0.408542</td>\n",
       "    </tr>\n",
       "  </tbody>\n",
       "</table>\n",
       "</div>"
      ],
      "text/plain": [
       "        V11        V4        V2       V19        V8       V21       V27  \\\n",
       "0 -0.551600  1.378155 -0.072781  0.403993  0.098698 -0.018307  0.133558   \n",
       "1  1.612727  0.448154  0.266151 -0.145783  0.085102 -0.225775 -0.008983   \n",
       "2  0.624501  0.379780 -1.340163 -2.261857  0.247676  0.247998 -0.055353   \n",
       "3 -0.226487 -0.863291 -0.185226 -1.232622  0.377436 -0.108300  0.062723   \n",
       "4 -0.822843  0.403034  0.877737  0.803487 -0.270533 -0.009431  0.219422   \n",
       "\n",
       "        V20  \n",
       "0  0.251412  \n",
       "1 -0.069083  \n",
       "2  0.524980  \n",
       "3 -0.208038  \n",
       "4  0.408542  "
      ]
     },
     "execution_count": 16,
     "metadata": {},
     "output_type": "execute_result"
    }
   ],
   "source": [
    "# Display selected features and target\n",
    "print(\"Features:\")\n",
    "X.head()"
   ]
  },
  {
   "cell_type": "code",
   "execution_count": 17,
   "id": "06bddf74-83de-4a29-90ac-c7e83ebe7da1",
   "metadata": {},
   "outputs": [
    {
     "name": "stdout",
     "output_type": "stream",
     "text": [
      "Target:\n"
     ]
    },
    {
     "data": {
      "text/plain": [
       "0    0\n",
       "1    0\n",
       "2    0\n",
       "3    0\n",
       "4    0\n",
       "Name: Class, dtype: int64"
      ]
     },
     "execution_count": 17,
     "metadata": {},
     "output_type": "execute_result"
    }
   ],
   "source": [
    "print(\"Target:\")\n",
    "y.head()"
   ]
  },
  {
   "cell_type": "code",
   "execution_count": 18,
   "id": "293b1731-a638-48a3-a1ac-1aec3f3fd1d0",
   "metadata": {},
   "outputs": [],
   "source": [
    "# Split the dataset into training and test sets\n",
    "from sklearn.model_selection import train_test_split\n",
    "X_train, X_test, y_train, y_test = train_test_split(X, y, test_size=0.2, random_state=42)"
   ]
  },
  {
   "cell_type": "code",
   "execution_count": 19,
   "id": "8acbdb8e-eea3-4213-9ec3-7b46ee9301aa",
   "metadata": {},
   "outputs": [],
   "source": [
    "# Scale the features using StandardScaler\n",
    "from sklearn.preprocessing import StandardScaler\n",
    "scaler = StandardScaler()\n",
    "X_train_scaled = scaler.fit_transform(X_train)\n",
    "X_test_scaled = scaler.transform(X_test)"
   ]
  },
  {
   "cell_type": "code",
   "execution_count": 20,
   "id": "fee950d2-b665-48ca-a89f-b0587a3dff81",
   "metadata": {},
   "outputs": [],
   "source": [
    "# Model 1: Random Forest Classifier\n",
    "from sklearn.ensemble import RandomForestClassifier\n",
    "rf = RandomForestClassifier(random_state=42)\n",
    "rf.fit(X_train, y_train)\n",
    "rf_pred = rf.predict(X_test)"
   ]
  },
  {
   "cell_type": "code",
   "execution_count": 21,
   "id": "bb2edf9a-7fb2-4a98-8f54-3944ea658cae",
   "metadata": {},
   "outputs": [],
   "source": [
    "# Model 2: Decision Tree Classifier\n",
    "from sklearn.tree import DecisionTreeClassifier\n",
    "dt = DecisionTreeClassifier(random_state=42)\n",
    "dt.fit(X_train, y_train)\n",
    "dt_pred = dt.predict(X_test)"
   ]
  },
  {
   "cell_type": "code",
   "execution_count": 22,
   "id": "1c122f2a-29a7-42f9-bd46-48a285fac220",
   "metadata": {},
   "outputs": [],
   "source": [
    "# Model 3: Support Vector Classifier (SVC)\n",
    "from sklearn.svm import SVC\n",
    "svc = SVC(random_state=42)\n",
    "svc.fit(X_train_scaled, y_train)  # Scale required for SVC\n",
    "svc_pred = svc.predict(X_test_scaled)"
   ]
  },
  {
   "cell_type": "code",
   "execution_count": 23,
   "id": "1fbfb1c0-bed5-4877-9077-05b833f2d9fe",
   "metadata": {},
   "outputs": [
    {
     "name": "stdout",
     "output_type": "stream",
     "text": [
      "Random Forest Accuracy: 0.9992422373383146\n",
      "Decision Tree Accuracy: 0.998766432876326\n",
      "SVC Accuracy: 0.9992069925633524\n",
      "\n"
     ]
    }
   ],
   "source": [
    "# Evaluate the performance of each model\n",
    "from sklearn.metrics import accuracy_score, classification_report\n",
    "\n",
    "rf_accuracy = accuracy_score(y_test, rf_pred)\n",
    "dt_accuracy = accuracy_score(y_test, dt_pred)\n",
    "svc_accuracy = accuracy_score(y_test, svc_pred)\n",
    "\n",
    "print(f\"Random Forest Accuracy: {rf_accuracy}\")\n",
    "print(f\"Decision Tree Accuracy: {dt_accuracy}\")\n",
    "print(f\"SVC Accuracy: {svc_accuracy}\\n\")"
   ]
  },
  {
   "cell_type": "code",
   "execution_count": 24,
   "id": "5d6e0115-658e-4572-82e4-2d7403bdfb62",
   "metadata": {},
   "outputs": [
    {
     "name": "stdout",
     "output_type": "stream",
     "text": [
      "Random Forest Classification Report:\n",
      "              precision    recall  f1-score   support\n",
      "\n",
      "           0       1.00      1.00      1.00     56656\n",
      "           1       0.98      0.53      0.69        90\n",
      "\n",
      "    accuracy                           1.00     56746\n",
      "   macro avg       0.99      0.77      0.85     56746\n",
      "weighted avg       1.00      1.00      1.00     56746\n",
      "\n",
      "Decision Tree Classification Report:\n",
      "              precision    recall  f1-score   support\n",
      "\n",
      "           0       1.00      1.00      1.00     56656\n",
      "           1       0.64      0.52      0.57        90\n",
      "\n",
      "    accuracy                           1.00     56746\n",
      "   macro avg       0.82      0.76      0.79     56746\n",
      "weighted avg       1.00      1.00      1.00     56746\n",
      "\n",
      "SVC Classification Report:\n",
      "              precision    recall  f1-score   support\n",
      "\n",
      "           0       1.00      1.00      1.00     56656\n",
      "           1       0.98      0.51      0.67        90\n",
      "\n",
      "    accuracy                           1.00     56746\n",
      "   macro avg       0.99      0.76      0.84     56746\n",
      "weighted avg       1.00      1.00      1.00     56746\n",
      "\n"
     ]
    }
   ],
   "source": [
    "# Classification reports for each model\n",
    "rf_report = classification_report(y_test, rf_pred)\n",
    "dt_report = classification_report(y_test, dt_pred)\n",
    "svc_report = classification_report(y_test, svc_pred)\n",
    "\n",
    "print(f\"Random Forest Classification Report:\\n{rf_report}\")\n",
    "print(f\"Decision Tree Classification Report:\\n{dt_report}\")\n",
    "print(f\"SVC Classification Report:\\n{svc_report}\")"
   ]
  },
  {
   "cell_type": "code",
   "execution_count": 25,
   "id": "7b848ef2-7069-4722-b6a2-993c4a20ec9f",
   "metadata": {},
   "outputs": [],
   "source": [
    "# Visualization: Feature Importance in Random Forest\n",
    "importances = rf.feature_importances_\n",
    "indices = np.argsort(importances)[::-1]"
   ]
  },
  {
   "cell_type": "code",
   "execution_count": 26,
   "id": "4d4c9c49-b6f3-463b-a308-2e0c594bbb0c",
   "metadata": {},
   "outputs": [
    {
     "data": {
      "image/png": "[encoded data removed]",
      "text/plain": [
       "<Figure size 1000x600 with 1 Axes>"
      ]
     },
     "metadata": {},
     "output_type": "display_data"
    }
   ],
   "source": [
    "# Plot the feature importances\n",
    "plt.figure(figsize=(10, 6))\n",
    "plt.title(\"Feature Importances in Random Forest\")\n",
    "plt.bar(range(X.shape[1]), importances[indices], align=\"center\")\n",
    "plt.xticks(range(X.shape[1]), X.columns[indices], rotation=45)\n",
    "plt.tight_layout()\n",
    "plt.show()"
   ]
  },
  {
   "cell_type": "code",
   "execution_count": 27,
   "id": "aed1ef86-9cab-408c-b897-4c1010226395",
   "metadata": {},
   "outputs": [
    {
     "data": {
      "image/png": "[encoded data removed]",
      "text/plain": [
       "<Figure size 1200x800 with 2 Axes>"
      ]
     },
     "metadata": {},
     "output_type": "display_data"
    }
   ],
   "source": [
    "# Visualization: Correlation Matrix Heatmap\n",
    "plt.figure(figsize=(12, 8))\n",
    "sns.heatmap(corr_matrix, cmap='coolwarm', annot=False, fmt='.2f')\n",
    "plt.title(\"Correlation Matrix Heatmap\")\n",
    "plt.show()"
   ]
  },
  {
   "cell_type": "code",
   "execution_count": 28,
   "id": "97d552ad-37cd-4aba-bf3f-9ba6f40cf556",
   "metadata": {},
   "outputs": [
    {
     "data": {
      "image/png": "[encoded data removed]",
      "text/plain": [
       "<Figure size 640x480 with 1 Axes>"
      ]
     },
     "metadata": {},
     "output_type": "display_data"
    }
   ],
   "source": [
    "# Visualization: Fraud vs Non-Fraud Transactions\n",
    "sns.countplot(x='Class', data=data)\n",
    "plt.title('Class Distribution: Fraud (1) vs Non-Fraud (0)')\n",
    "plt.show()"
   ]
  },
  {
   "cell_type": "code",
   "execution_count": 29,
   "id": "ca0eb239-b8db-4b7a-9c54-3e56f73830ab",
   "metadata": {},
   "outputs": [],
   "source": [
    "# File I/O: Saving model performance results to CSV and Text files\n",
    "\n",
    "# Save predictions to a CSV file\n",
    "predictions_df = pd.DataFrame({\n",
    "    'Actual': y_test,\n",
    "    'Random Forest Predictions': rf_pred,\n",
    "    'Decision Tree Predictions': dt_pred,\n",
    "    'SVC Predictions': svc_pred\n",
    "})\n",
    "predictions_df.to_csv('credit_card_fraud_predictions.csv', index=False)"
   ]
  },
  {
   "cell_type": "code",
   "execution_count": 30,
   "id": "1f94e7fe-2d2f-4aec-a4ee-d9cc683cc71e",
   "metadata": {},
   "outputs": [],
   "source": [
    "# Save classification reports to a text file\n",
    "with open('model_evaluation_report.txt', 'w') as f:\n",
    "    f.write(\"Random Forest Classification Report:\\n\")\n",
    "    f.write(rf_report + \"\\n\\n\")\n",
    "    f.write(\"Decision Tree Classification Report:\\n\")\n",
    "    f.write(dt_report + \"\\n\\n\")\n",
    "    f.write(\"SVC Classification Report:\\n\")\n",
    "    f.write(svc_report + \"\\n\\n\")"
   ]
  },
  {
   "cell_type": "code",
   "execution_count": null,
   "id": "e5dc96f6-d462-4226-a398-6efb54aeaa83",
   "metadata": {},
   "outputs": [],
   "source": []
  }
 ],
 "metadata": {
  "kernelspec": {
   "display_name": "Python 3 (ipykernel)",
   "language": "python",
   "name": "python3"
  },
  "language_info": {
   "codemirror_mode": {
    "name": "ipython",
    "version": 3
   },
   "file_extension": ".py",
   "mimetype": "text/x-python",
   "name": "python",
   "nbconvert_exporter": "python",
   "pygments_lexer": "ipython3",
   "version": "3.11.0"
  }
 },
 "nbformat": 4,
 "nbformat_minor": 5
}
